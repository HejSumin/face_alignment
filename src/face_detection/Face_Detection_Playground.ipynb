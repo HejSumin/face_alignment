{
 "cells": [
  {
   "cell_type": "code",
   "execution_count": 37,
   "metadata": {},
   "outputs": [],
   "source": [
    "import numpy as np \n",
    "import cv2 as cv2\n",
    "import matplotlib.pyplot as plt\n",
    "import pandas as pd\n",
    "import os, sys\n",
    "from face_detection import * "
   ]
  },
  {
   "cell_type": "code",
   "execution_count": 38,
   "metadata": {},
   "outputs": [],
   "source": [
    "data = '../../data/'\n",
    "annotations = '../../data/annotation/'"
   ]
  },
  {
   "cell_type": "code",
   "execution_count": 49,
   "metadata": {},
   "outputs": [],
   "source": [
    "def _get_bounding_box_for_image(image_path, frontalface_config='default', circle=True):\n",
    "    frontalface_config_path = cv2.data.haarcascades + 'haarcascade_frontalface_default.xml' if frontalface_config =='default' else cv2.data.haarcascades + 'haarcascade_frontalface_alt.xml'\n",
    "    face_cascade = cv2.CascadeClassifier(frontalface_config_path)\n",
    "\n",
    "    image = cv2.imread(image_path)\n",
    "    \n",
    "    width, height, _ = image.shape\n",
    "    image = cv2.resize(image, (width//2, height//2))\n",
    "    bounding_box_minSize = (width//8, height//8)\n",
    "\n",
    "    image_grayscale = cv2.cvtColor(image, cv2.COLOR_BGR2GRAY)\n",
    "    faces = face_cascade.detectMultiScale(image_grayscale, scaleFactor=1.1, minNeighbors=5, minSize=bounding_box_minSize, flags = cv2.CASCADE_FIND_BIGGEST_OBJECT)\n",
    "\n",
    "    image_bounding_boxes = []    \n",
    "    for (x, y, w, h) in faces:\n",
    "        if circle:\n",
    "            center = (x+(w//2), y+(h//2))\n",
    "            radius = int(w//1.5)\n",
    "            cv2.circle(image, center, radius, (255, 0, 0), 2)\n",
    "            image_bounding_boxes.append((center, radius))\n",
    "        else:\n",
    "            cv2.rectangle(image, (x, y), (x+w, y+h), (255, 0, 0), 2)\n",
    "            image_bounding_boxes.append((x, y, w, h))\n",
    "\n",
    "    return image, image_bounding_boxes "
   ]
  },
  {
   "cell_type": "code",
   "execution_count": 50,
   "metadata": {},
   "outputs": [],
   "source": [
    "def get_circle_bounding_box_for_image(image_path, frontalface_config='default'):\n",
    "    return _get_bounding_box_for_image(image_path, frontalface_config, circle=True)\n",
    "\n",
    "def get_rectangle_bounding_box_for_image(image_path, frontalface_config='default'):\n",
    "    return _get_bounding_box_for_image(image_path, frontalface_config, circle=False)"
   ]
  },
  {
   "cell_type": "code",
   "execution_count": 53,
   "metadata": {},
   "outputs": [],
   "source": [
    "image_path_frontalface_example = data + \"train_1/\"+\"198386414_1\"+\".jpg\" \n",
    "image_path_sideface_example = data + \"train_1/\"+\"198386414_1\"+\".jpg\""
   ]
  },
  {
   "cell_type": "code",
   "execution_count": 56,
   "metadata": {},
   "outputs": [],
   "source": [
    "image, _ = get_rectangle_bounding_box_for_image(image_path_frontalface_example, 'default')\n",
    "\n",
    "cv2.imshow('image with bounding box', image)\n",
    "cv2.waitKey(0)\n",
    "cv2.destroyAllWindows()"
   ]
  },
  {
   "cell_type": "code",
   "execution_count": 55,
   "metadata": {},
   "outputs": [
    {
     "name": "stdout",
     "output_type": "stream",
     "text": [
      "(876, 584, 3)\n"
     ]
    }
   ],
   "source": [
    "image, _ = get_circle_bounding_box_for_image(image_path_sideface_example, 'default')\n",
    "print(image.shape)\n",
    "\n",
    "cv2.imshow('image with bounding box', image)\n",
    "cv2.waitKey(0)\n",
    "cv2.destroyAllWindows()"
   ]
  },
  {
   "cell_type": "code",
   "execution_count": null,
   "metadata": {},
   "outputs": [],
   "source": []
  }
 ],
 "metadata": {
  "kernelspec": {
   "display_name": "Python 3",
   "language": "python",
   "name": "python3"
  },
  "language_info": {
   "codemirror_mode": {
    "name": "ipython",
    "version": 3
   },
   "file_extension": ".py",
   "mimetype": "text/x-python",
   "name": "python",
   "nbconvert_exporter": "python",
   "pygments_lexer": "ipython3",
   "version": "3.8.10"
  }
 },
 "nbformat": 4,
 "nbformat_minor": 4
}
