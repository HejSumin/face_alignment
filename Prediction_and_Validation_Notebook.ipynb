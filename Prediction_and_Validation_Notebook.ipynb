{
 "cells": [
  {
   "cell_type": "code",
   "execution_count": null,
   "metadata": {},
   "outputs": [],
   "source": [
    "import src as fa\n",
    "import pickle\n",
    "import numpy as np\n",
    "import matplotlib.pyplot as plt\n",
    "from timeit import default_timer as timer\n",
    "from datetime import timedelta"
   ]
  },
  {
   "cell_type": "markdown",
   "metadata": {},
   "source": [
    "### Load the model"
   ]
  },
  {
   "cell_type": "code",
   "execution_count": null,
   "metadata": {},
   "outputs": [],
   "source": [
    "model = pickle.load(open(\"run_output/run_output_model.p\", \"rb\"))"
   ]
  },
  {
   "cell_type": "markdown",
   "metadata": {},
   "source": [
    "### Run prediction for a single test image and all cascades"
   ]
  },
  {
   "cell_type": "code",
   "execution_count": null,
   "metadata": {},
   "outputs": [],
   "source": [
    "test_image_number = 0\n",
    "\n",
    "test_folder = \"data/test/\"\n",
    "\n",
    "test_names = fa.get_all_file_names(test_folder)\n",
    "test_file_name = test_names[test_image_number]\n",
    "\n",
    "predict_start_time = timer()\n",
    "predict_result = model.predict_image(test_folder+test_file_name)\n",
    "predict_end_time = timer()\n",
    "\n",
    "if predict_result is None:\n",
    "    print(\"prediction failed ...\")\n",
    "else:\n",
    "    I_padded, S_hat_predicted, features_hat_predicted = predict_result\n",
    "    fig, ax = plt.subplots()\n",
    "    fig.set_size_inches(15, 10)\n",
    "    ax.scatter(S_hat_predicted[:,0], S_hat_predicted[:,1], c='r', s=2)\n",
    "    ax.imshow(I_padded, cmap='gray')\n",
    "\n",
    "print(\"Predict run finished in: (Time)\", timedelta(seconds=predict_end_time-predict_start_time))\n"
   ]
  },
  {
   "cell_type": "markdown",
   "metadata": {},
   "source": [
    "### Run prediction for a single test image wih intermediate results for each cascade"
   ]
  },
  {
   "cell_type": "code",
   "execution_count": null,
   "metadata": {},
   "outputs": [],
   "source": [
    "test_image_number = 0\n",
    "cascade_t = 0\n",
    "\n",
    "test_folder = \"data/test/\"\n",
    "\n",
    "test_names = fa.get_all_file_names(test_folder)\n",
    "test_file_name = test_names[test_image_number]\n",
    "\n",
    "predict_start_time = timer()\n",
    "predict_result = model.predict_image_with_intermediate_steps(test_folder+test_file_name)\n",
    "predict_end_time = timer()\n",
    "\n",
    "if predict_result is None:\n",
    "    print(\"prediction failed ...\")\n",
    "else:\n",
    "    I_padded, S_hat_predicted_list, features_hat_predicted_list = predict_result\n",
    "    fig, ax = plt.subplots()\n",
    "    fig.set_size_inches(15, 10)\n",
    "    ax.scatter(S_hat_predicted_list[cascade_t][:,0], S_hat_predicted_list[cascade_t][:,1], c='r', s=2)\n",
    "    ax.imshow(I_padded, cmap='gray')\n",
    "\n",
    "print(\"Predict run (wiht intermediate steps) finished in: (Time)\", timedelta(seconds=predict_end_time-predict_start_time))\n"
   ]
  },
  {
   "cell_type": "markdown",
   "metadata": {},
   "source": [
    "### Run validation (compute error) for all images"
   ]
  },
  {
   "cell_type": "code",
   "execution_count": null,
   "metadata": {},
   "outputs": [],
   "source": [
    "validation_folder = \"data/test/\"\n",
    "\n",
    "validate_start_time = timer()\n",
    "validate_result = model.compute_error_all(validation_folder, 'data/annotation/')\n",
    "validate_end_time = timer()\n",
    "\n",
    "if validate_result is None:\n",
    "    print(\"validation failed ...\")\n",
    "else:\n",
    "    validation_error = validate_result\n",
    "    print(\"Validation error:\", validation_error)\n",
    "\n",
    "print(\"Validation run finished in: (Time)\", timedelta(seconds=validate_end_time-validate_start_time))"
   ]
  },
  {
   "cell_type": "markdown",
   "metadata": {},
   "source": [
    "### Compute mean validation error"
   ]
  },
  {
   "cell_type": "code",
   "execution_count": null,
   "metadata": {},
   "outputs": [],
   "source": [
    "np.median(np.array(validation_error), axis=0)"
   ]
  }
 ],
 "metadata": {
  "interpreter": {
   "hash": "c053774dc150cf865af8307650fff4ccb6000acd32c60aa382d676165b66efd2"
  },
  "kernelspec": {
   "display_name": "Python 3.8.8 64-bit ('base': conda)",
   "language": "python",
   "name": "python3"
  },
  "language_info": {
   "codemirror_mode": {
    "name": "ipython",
    "version": 3
   },
   "file_extension": ".py",
   "mimetype": "text/x-python",
   "name": "python",
   "nbconvert_exporter": "python",
   "pygments_lexer": "ipython3",
   "version": "3.8.8"
  },
  "orig_nbformat": 4
 },
 "nbformat": 4,
 "nbformat_minor": 2
}
